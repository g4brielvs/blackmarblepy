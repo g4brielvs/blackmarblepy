{
 "cells": [
  {
   "cell_type": "markdown",
   "id": "73b42bfe-7179-4172-b641-dfe5da287d55",
   "metadata": {},
   "source": [
    "# Examples Using blackmarblepy Package"
   ]
  },
  {
   "cell_type": "markdown",
   "id": "85d75101-6283-4048-a56f-f121d64cb21f",
   "metadata": {},
   "source": [
    "__Table of Contents__\n",
    "* [Setup](#setup)\n",
    "* [Make raster of nighttime lights](#make_rasters)\n",
    "* [Make raster stack of nighttime lights across multiple time periods](#make_stacks)\n",
    "* [Map of nighttime lights](#map)\n",
    "* [Compute trends on nighttime lights over time](#trends)\n",
    "* [Exporting raster data to files](#to_file)"
   ]
  },
  {
   "cell_type": "markdown",
   "id": "a79340b3-c016-481e-bdb0-aa1c615c71c3",
   "metadata": {},
   "source": [
    "## Setup <a name=\"setup\">"
   ]
  },
  {
   "cell_type": "markdown",
   "id": "8d1459c3-09f9-47c6-8d90-43a9829388b6",
   "metadata": {},
   "source": [
    "#### Install blackmarblepy"
   ]
  },
  {
   "cell_type": "code",
   "execution_count": 1,
   "id": "2f22affc-3575-4761-800b-84700dd7d0ff",
   "metadata": {},
   "outputs": [
    {
     "name": "stdout",
     "output_type": "stream",
     "text": [
      "Collecting git+https://github.com/ramarty/blackmarblepy.git\n",
      "  Cloning https://github.com/ramarty/blackmarblepy.git to /private/var/folders/m1/8h14xfm56hd6qfgz6btm1rd80000gn/T/pip-req-build-0uudygec\n",
      "  Running command git clone -q https://github.com/ramarty/blackmarblepy.git /private/var/folders/m1/8h14xfm56hd6qfgz6btm1rd80000gn/T/pip-req-build-0uudygec\n",
      "  Resolved https://github.com/ramarty/blackmarblepy.git to commit 60ca83df609ebabfe0b7a5d4bba1435571509995\n",
      "Requirement already satisfied: pandas in /Users/robmarty/opt/anaconda3/lib/python3.8/site-packages (from blackmarblepy==0.1.0) (1.4.1)\n",
      "Requirement already satisfied: numpy in /Users/robmarty/opt/anaconda3/lib/python3.8/site-packages (from blackmarblepy==0.1.0) (1.21.2)\n",
      "Requirement already satisfied: requests in /Users/robmarty/opt/anaconda3/lib/python3.8/site-packages (from blackmarblepy==0.1.0) (2.27.1)\n",
      "Requirement already satisfied: datetime in /Users/robmarty/opt/anaconda3/lib/python3.8/site-packages (from blackmarblepy==0.1.0) (5.2)\n",
      "Requirement already satisfied: geopandas in /Users/robmarty/opt/anaconda3/lib/python3.8/site-packages (from blackmarblepy==0.1.0) (0.10.2)\n",
      "Requirement already satisfied: rasterstats in /Users/robmarty/opt/anaconda3/lib/python3.8/site-packages (from blackmarblepy==0.1.0) (0.18.0)\n",
      "Requirement already satisfied: h5py in /Users/robmarty/opt/anaconda3/lib/python3.8/site-packages (from blackmarblepy==0.1.0) (2.10.0)\n",
      "Requirement already satisfied: rasterio in /Users/robmarty/opt/anaconda3/lib/python3.8/site-packages (from blackmarblepy==0.1.0) (1.3.6)\n",
      "Requirement already satisfied: pytz in /Users/robmarty/opt/anaconda3/lib/python3.8/site-packages (from datetime->blackmarblepy==0.1.0) (2021.3)\n",
      "Requirement already satisfied: zope.interface in /Users/robmarty/opt/anaconda3/lib/python3.8/site-packages (from datetime->blackmarblepy==0.1.0) (5.4.0)\n",
      "Requirement already satisfied: fiona>=1.8 in /Users/robmarty/opt/anaconda3/lib/python3.8/site-packages (from geopandas->blackmarblepy==0.1.0) (1.8.21)\n",
      "Requirement already satisfied: shapely>=1.6 in /Users/robmarty/opt/anaconda3/lib/python3.8/site-packages (from geopandas->blackmarblepy==0.1.0) (1.8.1.post1)\n",
      "Requirement already satisfied: pyproj>=2.2.0 in /Users/robmarty/opt/anaconda3/lib/python3.8/site-packages (from geopandas->blackmarblepy==0.1.0) (3.3.0)\n",
      "Requirement already satisfied: attrs>=17 in /Users/robmarty/opt/anaconda3/lib/python3.8/site-packages (from fiona>=1.8->geopandas->blackmarblepy==0.1.0) (21.4.0)\n",
      "Requirement already satisfied: click-plugins>=1.0 in /Users/robmarty/opt/anaconda3/lib/python3.8/site-packages (from fiona>=1.8->geopandas->blackmarblepy==0.1.0) (1.1.1)\n",
      "Requirement already satisfied: click>=4.0 in /Users/robmarty/opt/anaconda3/lib/python3.8/site-packages (from fiona>=1.8->geopandas->blackmarblepy==0.1.0) (8.0.4)\n",
      "Requirement already satisfied: six>=1.7 in /Users/robmarty/opt/anaconda3/lib/python3.8/site-packages (from fiona>=1.8->geopandas->blackmarblepy==0.1.0) (1.16.0)\n",
      "Requirement already satisfied: munch in /Users/robmarty/opt/anaconda3/lib/python3.8/site-packages (from fiona>=1.8->geopandas->blackmarblepy==0.1.0) (2.5.0)\n",
      "Requirement already satisfied: cligj>=0.5 in /Users/robmarty/opt/anaconda3/lib/python3.8/site-packages (from fiona>=1.8->geopandas->blackmarblepy==0.1.0) (0.7.2)\n",
      "Requirement already satisfied: certifi in /Users/robmarty/opt/anaconda3/lib/python3.8/site-packages (from fiona>=1.8->geopandas->blackmarblepy==0.1.0) (2021.10.8)\n",
      "Requirement already satisfied: setuptools in /Users/robmarty/opt/anaconda3/lib/python3.8/site-packages (from fiona>=1.8->geopandas->blackmarblepy==0.1.0) (58.0.4)\n",
      "Requirement already satisfied: python-dateutil>=2.8.1 in /Users/robmarty/opt/anaconda3/lib/python3.8/site-packages (from pandas->blackmarblepy==0.1.0) (2.8.2)\n",
      "Requirement already satisfied: snuggs>=1.4.1 in /Users/robmarty/opt/anaconda3/lib/python3.8/site-packages (from rasterio->blackmarblepy==0.1.0) (1.4.7)\n",
      "Requirement already satisfied: affine in /Users/robmarty/opt/anaconda3/lib/python3.8/site-packages (from rasterio->blackmarblepy==0.1.0) (2.4.0)\n",
      "Requirement already satisfied: pyparsing>=2.1.6 in /Users/robmarty/opt/anaconda3/lib/python3.8/site-packages (from snuggs>=1.4.1->rasterio->blackmarblepy==0.1.0) (3.0.4)\n",
      "Requirement already satisfied: simplejson in /Users/robmarty/opt/anaconda3/lib/python3.8/site-packages (from rasterstats->blackmarblepy==0.1.0) (3.19.1)\n",
      "Requirement already satisfied: charset-normalizer~=2.0.0 in /Users/robmarty/opt/anaconda3/lib/python3.8/site-packages (from requests->blackmarblepy==0.1.0) (2.0.4)\n",
      "Requirement already satisfied: idna<4,>=2.5 in /Users/robmarty/opt/anaconda3/lib/python3.8/site-packages (from requests->blackmarblepy==0.1.0) (3.3)\n",
      "Requirement already satisfied: urllib3<1.27,>=1.21.1 in /Users/robmarty/opt/anaconda3/lib/python3.8/site-packages (from requests->blackmarblepy==0.1.0) (1.26.8)\n",
      "Building wheels for collected packages: blackmarblepy\n",
      "  Building wheel for blackmarblepy (setup.py) ... \u001b[?25ldone\n",
      "\u001b[?25h  Created wheel for blackmarblepy: filename=blackmarblepy-0.1.0-py3-none-any.whl size=15310 sha256=0f5e5117df4c12ab0f6f5455eb71d12058141c6f11f27360d4ac980db94a84c0\n",
      "  Stored in directory: /private/var/folders/m1/8h14xfm56hd6qfgz6btm1rd80000gn/T/pip-ephem-wheel-cache-r8j6uiay/wheels/2d/74/2a/3f0e00273b80606a21c3dcb8689e2ca07c529a0802ea86bbd3\n",
      "Successfully built blackmarblepy\n",
      "Installing collected packages: blackmarblepy\n",
      "Successfully installed blackmarblepy-0.1.0\n"
     ]
    }
   ],
   "source": [
    "! pip install git+https://github.com/ramarty/blackmarblepy.git"
   ]
  },
  {
   "cell_type": "markdown",
   "id": "9eb7b641-e5bd-42a4-82f3-7b081436112e",
   "metadata": {},
   "source": [
    "#### Load Packages"
   ]
  },
  {
   "cell_type": "code",
   "execution_count": 18,
   "id": "ba22d742-7497-46df-ba8e-e0988f023ca3",
   "metadata": {},
   "outputs": [],
   "source": [
    "import geopandas as gpd\n",
    "from gadm import GADMDownloader\n",
    "\n",
    "import rasterio\n",
    "import matplotlib.pyplot as plt\n",
    "import numpy as np\n",
    "import seaborn as sns\n",
    "import pandas as pd\n",
    "import os\n",
    "import datetime\n",
    "import glob\n",
    "\n",
    "from blackmarblepy.bm_raster import bm_raster\n",
    "from blackmarblepy.bm_extract import bm_extract"
   ]
  },
  {
   "cell_type": "markdown",
   "id": "cc878977-7626-4f07-b2a7-d8d727e05134",
   "metadata": {},
   "source": [
    "#### Define NASA Bearer\n",
    "\n",
    "For instructions on obtaining a NASA bearer token, see [here](https://github.com/ramarty/blackmarbler#bearer-token-)."
   ]
  },
  {
   "cell_type": "code",
   "execution_count": 10,
   "id": "fea5c8fa-199c-4f8d-aea1-7a725e9381c7",
   "metadata": {},
   "outputs": [],
   "source": [
    "if os.path.exists(\"/Users/robmarty/Desktop/bearer_bm.csv\"):\n",
    "    bearer = pd.read_csv(\"/Users/robmarty/Desktop/bearer_bm.csv\")['token'][0]\n",
    "else:\n",
    "    bearer == \"BEARER TOKEN HERE\""
   ]
  },
  {
   "cell_type": "markdown",
   "id": "f1cce32c-f001-4324-9aeb-1246a3044457",
   "metadata": {},
   "source": [
    "#### Define Region of Interest\n",
    "\n",
    "Define region of interest for where we want to download nighttime lights data"
   ]
  },
  {
   "cell_type": "code",
   "execution_count": 11,
   "id": "1b92066e-704f-4763-b547-f21f97769538",
   "metadata": {},
   "outputs": [],
   "source": [
    "downloader = GADMDownloader(version=\"4.0\")\n",
    "\n",
    "country_name = \"Ghana\"\n",
    "ad_level = 1\n",
    "roi_sf = downloader.get_shape_data_by_country_name(country_name=country_name, ad_level=ad_level)"
   ]
  },
  {
   "cell_type": "markdown",
   "id": "ed66fb99-45af-4dc0-ab09-1b9ec84bb890",
   "metadata": {},
   "source": [
    "## Make raster of nighttime lights <a name=\"make_rasters\">\n",
    "\n",
    "The below example shows making daily, monthly, and annual rasters of nighttime lights for Ghana."
   ]
  },
  {
   "cell_type": "code",
   "execution_count": 12,
   "id": "b7014ecc-753d-412a-a123-c7fe84569856",
   "metadata": {},
   "outputs": [
    {
     "name": "stdout",
     "output_type": "stream",
     "text": [
      "Downloading: VNP46A2.A2021036.h17v07.001.2021105023833.h5\n",
      "Downloading: VNP46A2.A2021036.h17v08.001.2021104054945.h5\n",
      "Downloading: VNP46A2.A2021036.h18v07.001.2021105032141.h5\n",
      "Downloading: VNP46A2.A2021036.h18v08.001.2021104041403.h5\n"
     ]
    }
   ],
   "source": [
    "### Daily data: raster for February 5, 2021\n",
    "r_20210205 = bm_raster(roi_sf = roi_sf,\n",
    "                       product_id = \"VNP46A2\",\n",
    "                       date = \"2021-02-05\",\n",
    "                       bearer = bearer)"
   ]
  },
  {
   "cell_type": "code",
   "execution_count": 17,
   "id": "f0e13a16-0468-4af1-8bcd-364aecfd1ab1",
   "metadata": {},
   "outputs": [
    {
     "name": "stdout",
     "output_type": "stream",
     "text": [
      "Error with year: 2021; day: 275\n",
      "Downloading: VNP46A3.A2021274.h17v07.001.2021321132719.h5\n",
      "Downloading: VNP46A3.A2021274.h17v08.001.2021321132826.h5\n",
      "Skipping 2021-10 due to error. Data may not be available.\n",
      "\n"
     ]
    }
   ],
   "source": [
    "### Monthly data: raster for October 2021\n",
    "r_202110 = bm_raster(roi_sf = roi_sf,\n",
    "                     product_id = \"VNP46A3\",\n",
    "                     date = \"2021-10\",\n",
    "                     bearer = bearer)"
   ]
  },
  {
   "cell_type": "code",
   "execution_count": 16,
   "id": "9eadd05b-1529-4707-9b1a-6a9dc9de4760",
   "metadata": {},
   "outputs": [
    {
     "name": "stdout",
     "output_type": "stream",
     "text": [
      "Downloading: VNP46A4.A2021001.h17v07.001.2022094115525.h5\n",
      "Downloading: VNP46A4.A2021001.h17v08.001.2022094115514.h5\n",
      "Downloading: VNP46A4.A2021001.h18v07.001.2022094115526.h5\n",
      "Downloading: VNP46A4.A2021001.h18v08.001.2022094115509.h5\n"
     ]
    }
   ],
   "source": [
    "### Annual data: raster for 2021\n",
    "r_2021 = bm_raster(roi_sf = roi_sf,\n",
    "                    product_id = \"VNP46A4\",\n",
    "                    date = 2021,\n",
    "                    bearer = bearer)"
   ]
  },
  {
   "cell_type": "markdown",
   "id": "2dcb2dfb-186d-43f2-a3af-c92048a607f7",
   "metadata": {},
   "source": [
    "## Make raster stack of nighttime lights across multiple time periods <a name=\"make_stacks\">\n",
    "\n",
    "To extract data for multiple time periods, add multiple time periods to date. The function will return a raster stack, where each raster band corresponds to a different date. The below code provides examples getting data across multiple days, months, and years.\n",
    "\n",
    "By setting `quiet = True`, we can hide output that shows downloading progress and other messages."
   ]
  },
  {
   "cell_type": "code",
   "execution_count": 19,
   "id": "3e218054-3085-48b3-8f9e-f6dea8410e6f",
   "metadata": {},
   "outputs": [],
   "source": [
    "#### Raster stack of daily data\n",
    "date_list = pd.date_range(datetime.datetime.strptime(\"2021-03-01\", \"%Y-%m-%d\"), \n",
    "                                          datetime.datetime.strptime(\"2021-03-02\", \"%Y-%m-%d\"), \n",
    "                                          freq='D').strftime(\"%Y-%m-%d\").tolist()\n",
    "\n",
    "r_daily = bm_raster(roi_sf = roi_sf,\n",
    "                     product_id = \"VNP46A2\",\n",
    "                     date = date_list,\n",
    "                     bearer = bearer,\n",
    "                     quiet = True)"
   ]
  },
  {
   "cell_type": "code",
   "execution_count": null,
   "id": "42d1f400-2063-4d39-8c3b-4ed4052281f4",
   "metadata": {},
   "outputs": [],
   "source": [
    "#### Raster stack of monthly data\n",
    "date_list = pd.date_range(datetime.datetime.strptime(\"2021-01-01\", \"%Y-%m-%d\"), \n",
    "                                            datetime.datetime.strptime(\"2021-03-31\", \"%Y-%m-%d\"), \n",
    "                                            freq='M').strftime(\"%Y-%m-%d\").tolist()\n",
    "\n",
    "r_monthly = bm_raster(roi_sf = roi_sf,\n",
    "                       product_id = \"VNP46A3\",\n",
    "                       date = date_list,\n",
    "                       bearer = bearer,\n",
    "                       quiet = True)                   "
   ]
  },
  {
   "cell_type": "code",
   "execution_count": null,
   "id": "4833ef8e-80c6-445b-adec-0d8aebb5239f",
   "metadata": {},
   "outputs": [],
   "source": [
    "#### Raster stack of annual data\n",
    "r_annual = bm_raster(roi_sf = roi_sf,\n",
    "                      product_id = \"VNP46A4\",\n",
    "                      date = list(range(2019, 2022)),\n",
    "                      bearer = bearer,\n",
    "                      quiet = True)"
   ]
  },
  {
   "cell_type": "markdown",
   "id": "a9c10d77-c7e3-45b4-8555-1c2812864bdf",
   "metadata": {},
   "source": [
    "## Map of nighttime lights <a name=\"map\">\n",
    "\n",
    "Below shows an example of making maps of nighttime lights for three years."
   ]
  },
  {
   "cell_type": "code",
   "execution_count": 22,
   "id": "6e2d8894-c98e-49e1-a28b-fda85174f2a0",
   "metadata": {},
   "outputs": [],
   "source": [
    "## Download data\n",
    "r_annual_121722 = bm_raster(roi_sf = roi_sf,\n",
    "                            product_id = \"VNP46A4\",\n",
    "                            date = [2012, 2017, 2022],\n",
    "                            bearer = bearer,\n",
    "                            quiet = True)"
   ]
  },
  {
   "cell_type": "code",
   "execution_count": 23,
   "id": "11173c1d-23c6-441c-9869-de88e079a2d1",
   "metadata": {},
   "outputs": [
    {
     "ename": "IndexError",
     "evalue": "band index 3 out of range (not in (1, 2))",
     "output_type": "error",
     "traceback": [
      "\u001b[0;31m---------------------------------------------------------------------------\u001b[0m",
      "\u001b[0;31mIndexError\u001b[0m                                Traceback (most recent call last)",
      "Input \u001b[0;32mIn [23]\u001b[0m, in \u001b[0;36m<cell line: 5>\u001b[0;34m()\u001b[0m\n\u001b[1;32m      4\u001b[0m \u001b[38;5;66;03m# Generate the images and configure each subplot\u001b[39;00m\n\u001b[1;32m      5\u001b[0m \u001b[38;5;28;01mfor\u001b[39;00m i, year \u001b[38;5;129;01min\u001b[39;00m \u001b[38;5;28menumerate\u001b[39m([\u001b[38;5;241m2012\u001b[39m, \u001b[38;5;241m2017\u001b[39m, \u001b[38;5;241m2022\u001b[39m]):\n\u001b[0;32m----> 7\u001b[0m     r_np \u001b[38;5;241m=\u001b[39m \u001b[43mr_annual_121722\u001b[49m\u001b[38;5;241;43m.\u001b[39;49m\u001b[43mread\u001b[49m\u001b[43m(\u001b[49m\u001b[43mi\u001b[49m\u001b[38;5;241;43m+\u001b[39;49m\u001b[38;5;241;43m1\u001b[39;49m\u001b[43m)\u001b[49m\n\u001b[1;32m      8\u001b[0m     r_np \u001b[38;5;241m=\u001b[39m np\u001b[38;5;241m.\u001b[39mlog(r_np\u001b[38;5;241m+\u001b[39m\u001b[38;5;241m1\u001b[39m)\n\u001b[1;32m     10\u001b[0m     ax \u001b[38;5;241m=\u001b[39m axs[i]\n",
      "File \u001b[0;32mrasterio/_io.pyx:496\u001b[0m, in \u001b[0;36mrasterio._io.DatasetReaderBase.read\u001b[0;34m()\u001b[0m\n",
      "\u001b[0;31mIndexError\u001b[0m: band index 3 out of range (not in (1, 2))"
     ]
    },
    {
     "data": {
      "image/png": "[encoded data removed]",
      "text/plain": [
       "<Figure size 864x288 with 3 Axes>"
      ]
     },
     "metadata": {
      "needs_background": "light"
     },
     "output_type": "display_data"
    }
   ],
   "source": [
    "# Set up the figure and subplots\n",
    "fig, axs = plt.subplots(1, 3, figsize=(12, 4))\n",
    "\n",
    "# Generate the images and configure each subplot\n",
    "for i, year in enumerate([2012, 2017, 2022]):\n",
    "\n",
    "    r_np = r_annual_121722.read(i+1)\n",
    "    r_np = np.log(r_np+1)\n",
    "    \n",
    "    ax = axs[i]\n",
    "\n",
    "    # Display the image\n",
    "    ax.imshow(r_np, cmap='hot')\n",
    "    ax.axis(\"off\")\n",
    "    ax.set_title(\"NTL: {}\".format(year))\n",
    "\n",
    "# Adjust the spacing between subplots\n",
    "plt.tight_layout()\n",
    "\n",
    "# Show the figure\n",
    "plt.show()"
   ]
  },
  {
   "cell_type": "markdown",
   "id": "35e1add7-3231-42b3-ba18-53cab6216780",
   "metadata": {},
   "source": [
    "## Compute trends on nighttime lights over time <a name=\"trends\">\n",
    "\n",
    "We can use the `bm_extract` function to observe changes in nighttime lights over time. The `bm_extract` function leverages the [rasterstats](https://pythonhosted.org/rasterstats/) package to aggregate nighttime lights data to polygons. Below we show trends in annual nighttime lights data across Ghana's first administrative divisions."
   ]
  },
  {
   "cell_type": "code",
   "execution_count": null,
   "id": "5f708787-01f8-41cd-8c7c-68411101fa70",
   "metadata": {},
   "outputs": [],
   "source": [
    "ntl_df = bm_extract(roi_sf = roi_sf,\n",
    "                    product_id = \"VNP46A4\",\n",
    "                    date = list(range(2012, 2023)),\n",
    "                    bearer = bearer,\n",
    "                    quiet = True)"
   ]
  },
  {
   "cell_type": "code",
   "execution_count": null,
   "id": "70a6bf3f-6b29-4409-b39c-02004c228ffe",
   "metadata": {},
   "outputs": [],
   "source": [
    "sns.set(style=\"whitegrid\")\n",
    "g = sns.catplot(data=ntl_df, kind=\"bar\", x=\"date\", y=\"ntl_mean\", col=\"NAME_1\", height=2.5, col_wrap = 3, aspect=1.2, color = \"orange\")\n",
    "\n",
    "# Set the x-axis rotation for better visibility\n",
    "g.set_xticklabels(rotation=45)\n",
    "\n",
    "# Adjust spacing between subplots\n",
    "plt.tight_layout()\n",
    "\n",
    "# Show the plot\n",
    "plt.show()"
   ]
  },
  {
   "cell_type": "markdown",
   "id": "3101d995-9e8d-40cf-8329-9ff841feab9a",
   "metadata": {},
   "source": [
    "## Export data to files <a name=\"to_file\">\n",
    "\n",
    "The above examples load raster data into memory. However, some workflows may benefit from first downloading raster data, then further processing it. The `bm_raster` and `bm_extract` functions facilitate these workflows."
   ]
  },
  {
   "cell_type": "markdown",
   "id": "1639a8cb-bf54-46f6-aec3-520fdcca5e5b",
   "metadata": {},
   "source": [
    "#### Download annual data to files\n",
    "\n",
    "By setting `output_location_type = \"file\"`, the functions will export data; `bm_raster` will export `.tif` files, and `bm_extract` will export `.csv` files. \n",
    "\n",
    "The functions will export one file per time period; for example, for annual data, an individual `.tif` or `.csv` file will be exported for each year. By default, the function will check if the file has already been downloaded and will skip already downloaded files. "
   ]
  },
  {
   "cell_type": "code",
   "execution_count": null,
   "id": "2e2d0bfc-802d-4d92-b6a5-61856c1d6fdc",
   "metadata": {},
   "outputs": [],
   "source": [
    "# Define root directory\n",
    "if os.path.exists(\"/Users/robmarty/Desktop\"):\n",
    "    root_dir = \"/Users/robmarty/Desktop\"\n",
    "else:\n",
    "    root_dir = os.getcwd()\n",
    "    \n",
    "# Directory for BlackMarble files\n",
    "bm_files_path = os.path.join(root_dir, \"bm_files\")\n",
    "\n",
    "# Directory to put individual daily files\n",
    "annual_raster_path = os.path.join(root_dir, \"bm_files\", \"annual_raster\")\n",
    "annual_csv_path    = os.path.join(root_dir, \"bm_files\", \"annual_csv\")\n",
    "\n",
    "# Make directories\n",
    "os.makedirs(bm_files_path, exist_ok=True)\n",
    "os.makedirs(annual_raster_path, exist_ok=True)\n",
    "os.makedirs(annual_csv_path, exist_ok=True)"
   ]
  },
  {
   "cell_type": "code",
   "execution_count": null,
   "id": "4cdf9773-8b00-4409-becf-d032e60c7180",
   "metadata": {},
   "outputs": [],
   "source": [
    "## Download annual raster data\n",
    "## A .tif file for each year is exported to the \"annual_raster_path\" directory\n",
    "\n",
    "bm_raster(roi_sf = roi_sf,\n",
    "          product_id = \"VNP46A4\",\n",
    "          date = list(range(2012, 2023)),\n",
    "          bearer = bearer,\n",
    "          quiet = True,\n",
    "          output_location_type = \"file\",\n",
    "          file_dir = annual_raster_path)"
   ]
  },
  {
   "cell_type": "code",
   "execution_count": 24,
   "id": "438e6e75-e81d-4d0b-8d2f-2b738849443a",
   "metadata": {},
   "outputs": [
    {
     "data": {
      "text/plain": [
       "[2012, 2013, 2014, 2015, 2016, 2017, 2018, 2019, 2020, 2021, 2022]"
      ]
     },
     "execution_count": 24,
     "metadata": {},
     "output_type": "execute_result"
    }
   ],
   "source": [
    "## Download annual csv data, with average NTL data aggregated to first ADM level\n",
    "## A .csv file for each year is exported to the \"annual_csv_path\" directory\n",
    "\n",
    "bm_extract(roi_sf = roi_sf,\n",
    "           product_id = \"VNP46A4\",\n",
    "           date = list(range(2012, 2023)),\n",
    "           bearer = bearer,\n",
    "           quiet = True,\n",
    "           output_location_type = \"file\",\n",
    "           file_dir = annual_csv_path)"
   ]
  },
  {
   "cell_type": "markdown",
   "id": "6232f6c7-7279-41e8-b652-e84038110da5",
   "metadata": {},
   "source": [
    "#### Workflow to update data\n",
    "\n",
    "Some users may want to monitor near-real-time changes in nighttime lights. For example, daily Black Marble nighttime lights data is updated regularly, where data is available roughly on a week delay; some use cases may require examining trends in daily nighttime lights data as new data becomes available. Below shows example code that could be regularly run to produce an updated daily dataset of nighttime lights.\n",
    "\n",
    "The below code produces a dataframe of nighttime lights for each date, where average nighttime lights for Ghana's 1st administrative division is produced. The code will check whether data has already been downloaded/extracted for a specific date, and only download/extract new data."
   ]
  },
  {
   "cell_type": "code",
   "execution_count": null,
   "id": "602acd62-3afe-44ec-b539-06f819c8e461",
   "metadata": {},
   "outputs": [],
   "source": [
    "# Make root directory\n",
    "if os.path.exists(\"/Users/robmarty/Desktop\"):\n",
    "    root_dir = \"/Users/robmarty/Desktop\"\n",
    "else:\n",
    "    root_dir = os.getcwd()\n",
    "\n",
    "# Directory for BlackMarble files\n",
    "bm_files_path = os.path.join(root_dir, \"bm_files\")\n",
    "\n",
    "# Directory to put individual daily files\n",
    "daily_path    = os.path.join(root_dir, \"bm_files\", \"daily\")\n",
    "\n",
    "os.makedirs(bm_files_path, exist_ok=True)\n",
    "os.makedirs(daily_path, exist_ok=True)"
   ]
  },
  {
   "cell_type": "code",
   "execution_count": null,
   "id": "08ed30c5-a814-4e5a-83c7-94b6868301c6",
   "metadata": {},
   "outputs": [],
   "source": [
    "date_list = pd.date_range(datetime.datetime.strptime(\"2023-06-01\", \"%Y-%m-%d\"), \n",
    "                                          datetime.date.today(), \n",
    "                                          freq='D').strftime(\"%Y-%m-%d\").tolist()\n",
    "\n",
    "bm_extract(roi_sf = roi_sf,\n",
    "           product_id = \"VNP46A2\",\n",
    "           date = date_list,\n",
    "           bearer = bearer,\n",
    "           output_location_type = \"file\",\n",
    "           file_dir = os.path.join(root_dir, \"bm_files\", \"daily\"),\n",
    "           quiet = True)"
   ]
  },
  {
   "cell_type": "code",
   "execution_count": null,
   "id": "56129937-050b-46ae-82a6-0ab14473533d",
   "metadata": {},
   "outputs": [],
   "source": [
    "#### Create individual file of daily nighttime lights\n",
    "\n",
    "# Make list of daily NTL .csv files\n",
    "file_list = glob.glob(os.path.join(root_dir, \"bm_files\", \"daily\") + \"/\" + \"*.csv\")\n",
    "\n",
    "# Read individual .csv, make list of dataframes\n",
    "df_list = [pd.read_csv(file) for file in file_list]\n",
    "\n",
    "# Append dataframes\n",
    "ntl_df = pd.concat(df_list, ignore_index=True)\n",
    "\n",
    "# Export appended dataframes\n",
    "ntl_df.to_csv(os.path.join(root_dir, \"bm_files\", \"ntl_daily.csv\"), index=False)"
   ]
  },
  {
   "cell_type": "code",
   "execution_count": null,
   "id": "63cee8fc-d6b0-4114-aba3-e84ce4ddcd75",
   "metadata": {},
   "outputs": [],
   "source": [
    "ntl_df.head()"
   ]
  },
  {
   "cell_type": "code",
   "execution_count": null,
   "id": "dafe63b9-e6c8-4a5f-8c17-1431d62f509f",
   "metadata": {},
   "outputs": [],
   "source": []
  }
 ],
 "metadata": {
  "kernelspec": {
   "display_name": "Python 3 (ipykernel)",
   "language": "python",
   "name": "python3"
  },
  "language_info": {
   "codemirror_mode": {
    "name": "ipython",
    "version": 3
   },
   "file_extension": ".py",
   "mimetype": "text/x-python",
   "name": "python",
   "nbconvert_exporter": "python",
   "pygments_lexer": "ipython3",
   "version": "3.8.13"
  }
 },
 "nbformat": 4,
 "nbformat_minor": 5
}
