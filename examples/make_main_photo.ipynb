{
 "cells": [
  {
   "cell_type": "markdown",
   "id": "9e715be2-f58c-4cf3-a031-dc81daa2c777",
   "metadata": {},
   "source": [
    "# Make Main Figure"
   ]
  },
  {
   "cell_type": "code",
   "execution_count": 22,
   "id": "9a4cce0f-7815-44de-a840-fbaf82fb39d3",
   "metadata": {},
   "outputs": [],
   "source": [
    "import geopandas as gpd\n",
    "from gadm import GADMDownloader\n",
    "\n",
    "import rasterio\n",
    "import matplotlib.pyplot as plt\n",
    "import numpy as np\n",
    "import seaborn as sns\n",
    "import pandas as pd\n",
    "import os\n",
    "import datetime\n",
    "import glob\n",
    "import time\n",
    "\n",
    "from blackmarblepy.bm_raster import bm_raster\n",
    "from blackmarblepy.bm_extract import bm_extract"
   ]
  },
  {
   "cell_type": "code",
   "execution_count": 23,
   "id": "4bba8019-7541-463d-8c26-be2f465f8028",
   "metadata": {},
   "outputs": [],
   "source": [
    "if os.path.exists(\"/Users/robmarty/Desktop/bearer_bm.csv\"):\n",
    "    bearer = pd.read_csv(\"/Users/robmarty/Desktop/bearer_bm.csv\")['token'][0]\n",
    "else:\n",
    "    bearer == \"BEARER TOKEN HERE\""
   ]
  },
  {
   "cell_type": "code",
   "execution_count": 24,
   "id": "ae164d59-721e-464f-b984-980b5c7372c8",
   "metadata": {},
   "outputs": [],
   "source": [
    "downloader = GADMDownloader(version=\"4.0\")\n",
    "\n",
    "country_name = \"United States\"\n",
    "ad_level = 1\n",
    "roi_sf = downloader.get_shape_data_by_country_name(country_name=country_name, ad_level=ad_level)"
   ]
  },
  {
   "cell_type": "code",
   "execution_count": 25,
   "id": "f9f48ffe-b1b3-4d9d-9c88-60899f6d34b2",
   "metadata": {},
   "outputs": [],
   "source": [
    "roi_sub_sf = roi_sf[roi_sf['NAME_1'] != \"Hawaii\"]\n",
    "roi_sub_sf = roi_sub_sf[roi_sub_sf['NAME_1'] != \"Alaska\"]"
   ]
  },
  {
   "cell_type": "code",
   "execution_count": 26,
   "id": "2b39b062-e6a0-484c-9b97-fffdf7045eae",
   "metadata": {},
   "outputs": [],
   "source": [
    "#path = gpd.datasets.get_path(\"naturalearth_lowres\")\n",
    "#roi_sub_sf = gpd.read_file(path)"
   ]
  },
  {
   "cell_type": "code",
   "execution_count": 29,
   "id": "6da4100d-6299-47c1-9452-a98bad035775",
   "metadata": {},
   "outputs": [
    {
     "name": "stdout",
     "output_type": "stream",
     "text": [
      "Downloading: VNP46A4.A2022001.h01v02.001.2023081120953.h5\n",
      "Downloading: VNP46A4.A2022001.h01v03.001.2023081120754.h5\n",
      "Downloading: VNP46A4.A2022001.h01v16.001.2023081120534.h5\n",
      "Downloading: VNP46A4.A2022001.h01v17.001.2023081120528.h5\n",
      "Downloading: VNP46A4.A2022001.h02v01.001.2023081120613.h5\n",
      "Downloading: VNP46A4.A2022001.h02v02.001.2023081123055.h5\n",
      "Skipping 2022 due to error. Data may not be available.\n",
      "\n"
     ]
    }
   ],
   "source": [
    "## Download data\n",
    "r_annual_121722 = bm_raster(roi_sf = roi_sub_sf,\n",
    "                            product_id = \"VNP46A4\",\n",
    "                            date = 2022, \n",
    "                            bearer = bearer,\n",
    "                            quiet = False,\n",
    "                            check_all_tiles_exist = False)"
   ]
  },
  {
   "cell_type": "code",
   "execution_count": 30,
   "id": "1c7ee53b-055a-4a13-8274-0978b6ccf47e",
   "metadata": {},
   "outputs": [
    {
     "ename": "AttributeError",
     "evalue": "'NoneType' object has no attribute 'read'",
     "output_type": "error",
     "traceback": [
      "\u001b[0;31m---------------------------------------------------------------------------\u001b[0m",
      "\u001b[0;31mAttributeError\u001b[0m                            Traceback (most recent call last)",
      "Input \u001b[0;32mIn [30]\u001b[0m, in \u001b[0;36m<cell line: 1>\u001b[0;34m()\u001b[0m\n\u001b[0;32m----> 1\u001b[0m r_np \u001b[38;5;241m=\u001b[39m \u001b[43mr_annual_121722\u001b[49m\u001b[38;5;241;43m.\u001b[39;49m\u001b[43mread\u001b[49m(\u001b[38;5;241m1\u001b[39m)\n\u001b[1;32m      2\u001b[0m r_np \u001b[38;5;241m=\u001b[39m np\u001b[38;5;241m.\u001b[39mlog(r_np\u001b[38;5;241m+\u001b[39m\u001b[38;5;241m1\u001b[39m)\n\u001b[1;32m      4\u001b[0m plt\u001b[38;5;241m.\u001b[39mimshow(r_np, cmap\u001b[38;5;241m=\u001b[39m\u001b[38;5;124m'\u001b[39m\u001b[38;5;124mhot\u001b[39m\u001b[38;5;124m'\u001b[39m)\n",
      "\u001b[0;31mAttributeError\u001b[0m: 'NoneType' object has no attribute 'read'"
     ]
    }
   ],
   "source": [
    "r_np = r_annual_121722.read(1)\n",
    "r_np = np.log(r_np+1)\n",
    "\n",
    "plt.imshow(r_np, cmap='hot')\n",
    "plt.tight_layout()\n",
    "plt.axis(\"off\")\n",
    "plt.savefig(\"../ntl_usa.png\", dpi = 500, bbox_inches='tight')"
   ]
  },
  {
   "cell_type": "code",
   "execution_count": null,
   "id": "9af22f44-bf55-4b98-ae6d-58a4a9983bd4",
   "metadata": {},
   "outputs": [],
   "source": []
  },
  {
   "cell_type": "code",
   "execution_count": null,
   "id": "091768e0-cccb-456d-8d21-918caaac055f",
   "metadata": {},
   "outputs": [],
   "source": []
  },
  {
   "cell_type": "code",
   "execution_count": null,
   "id": "f9637ac5-6b75-4ce5-9b16-6b6c2e5b30cc",
   "metadata": {},
   "outputs": [],
   "source": [
    "#! pip install cartopy"
   ]
  },
  {
   "cell_type": "code",
   "execution_count": null,
   "id": "17d65431-c18d-4fdd-8ba8-8b6293b36b9e",
   "metadata": {},
   "outputs": [],
   "source": [
    "import cartopy.io.shapereader as shpreader\n",
    "ne_earth_countries = shpreader.natural_earth(resolution = '50m',\n",
    "                                       category = 'cultural',\n",
    "                                       name='admin_0_countries')\n",
    "countries = shpreader.Reader(ne_earth_countries).records()"
   ]
  },
  {
   "cell_type": "code",
   "execution_count": null,
   "id": "e16a2b90-929f-4836-ba96-a4789f6d7712",
   "metadata": {},
   "outputs": [],
   "source": [
    "# https://geopandas.org/en/stable/gallery/cartopy_convert.html\n",
    "\n"
   ]
  },
  {
   "cell_type": "code",
   "execution_count": null,
   "id": "a1f6369d-977c-48ad-8af1-93ee4cdc8e24",
   "metadata": {},
   "outputs": [],
   "source": []
  },
  {
   "cell_type": "code",
   "execution_count": null,
   "id": "4c4b24eb-e1d3-4f9a-af05-76ab839c00af",
   "metadata": {},
   "outputs": [],
   "source": []
  },
  {
   "cell_type": "code",
   "execution_count": null,
   "id": "5bfecff9-6a94-47ce-8599-163410e64c24",
   "metadata": {},
   "outputs": [],
   "source": []
  },
  {
   "cell_type": "code",
   "execution_count": null,
   "id": "3404762c-d5c9-481b-b1dc-70a059634997",
   "metadata": {},
   "outputs": [],
   "source": []
  },
  {
   "cell_type": "code",
   "execution_count": null,
   "id": "061e2127-955b-4ec8-a6ac-c25a37dfbed5",
   "metadata": {},
   "outputs": [],
   "source": []
  },
  {
   "cell_type": "code",
   "execution_count": null,
   "id": "62a43391-3ac0-4402-a633-b5ab053cc359",
   "metadata": {},
   "outputs": [],
   "source": []
  }
 ],
 "metadata": {
  "kernelspec": {
   "display_name": "Python 3 (ipykernel)",
   "language": "python",
   "name": "python3"
  },
  "language_info": {
   "codemirror_mode": {
    "name": "ipython",
    "version": 3
   },
   "file_extension": ".py",
   "mimetype": "text/x-python",
   "name": "python",
   "nbconvert_exporter": "python",
   "pygments_lexer": "ipython3",
   "version": "3.8.13"
  }
 },
 "nbformat": 4,
 "nbformat_minor": 5
}
